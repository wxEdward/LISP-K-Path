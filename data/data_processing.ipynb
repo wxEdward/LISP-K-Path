{
 "cells": [
  {
   "cell_type": "code",
   "execution_count": 39,
   "source": [
    "import csv\n",
    "import pandas as pd\n",
    "import numpy as np\n",
    "import torch"
   ],
   "outputs": [],
   "metadata": {}
  },
  {
   "cell_type": "markdown",
   "source": [
    "## Read graph data and save as undirected edge list"
   ],
   "metadata": {}
  },
  {
   "cell_type": "code",
   "execution_count": 40,
   "source": [
    "raw_data = pd.read_csv('PP-Pathways_ppi.csv')"
   ],
   "outputs": [],
   "metadata": {}
  },
  {
   "cell_type": "code",
   "execution_count": 41,
   "source": [
    "raw_data.shape     # Edge list format"
   ],
   "outputs": [
    {
     "output_type": "execute_result",
     "data": {
      "text/plain": [
       "(342352, 2)"
      ]
     },
     "metadata": {},
     "execution_count": 41
    }
   ],
   "metadata": {}
  },
  {
   "cell_type": "markdown",
   "source": [
    "Example entry"
   ],
   "metadata": {}
  },
  {
   "cell_type": "code",
   "execution_count": 42,
   "source": [
    "raw_data.loc[raw_data[0] == 7349]"
   ],
   "outputs": [
    {
     "output_type": "error",
     "ename": "KeyError",
     "evalue": "0",
     "traceback": [
      "\u001b[0;31m---------------------------------------------------------------------------\u001b[0m",
      "\u001b[0;31mKeyError\u001b[0m                                  Traceback (most recent call last)",
      "\u001b[0;32m/scratch3/zche/anaconda3/envs/k-path/lib/python3.9/site-packages/pandas/core/indexes/base.py\u001b[0m in \u001b[0;36mget_loc\u001b[0;34m(self, key, method, tolerance)\u001b[0m\n\u001b[1;32m   3360\u001b[0m             \u001b[0;32mtry\u001b[0m\u001b[0;34m:\u001b[0m\u001b[0;34m\u001b[0m\u001b[0;34m\u001b[0m\u001b[0m\n\u001b[0;32m-> 3361\u001b[0;31m                 \u001b[0;32mreturn\u001b[0m \u001b[0mself\u001b[0m\u001b[0;34m.\u001b[0m\u001b[0m_engine\u001b[0m\u001b[0;34m.\u001b[0m\u001b[0mget_loc\u001b[0m\u001b[0;34m(\u001b[0m\u001b[0mcasted_key\u001b[0m\u001b[0;34m)\u001b[0m\u001b[0;34m\u001b[0m\u001b[0;34m\u001b[0m\u001b[0m\n\u001b[0m\u001b[1;32m   3362\u001b[0m             \u001b[0;32mexcept\u001b[0m \u001b[0mKeyError\u001b[0m \u001b[0;32mas\u001b[0m \u001b[0merr\u001b[0m\u001b[0;34m:\u001b[0m\u001b[0;34m\u001b[0m\u001b[0;34m\u001b[0m\u001b[0m\n",
      "\u001b[0;32m/scratch3/zche/anaconda3/envs/k-path/lib/python3.9/site-packages/pandas/_libs/index.pyx\u001b[0m in \u001b[0;36mpandas._libs.index.IndexEngine.get_loc\u001b[0;34m()\u001b[0m\n",
      "\u001b[0;32m/scratch3/zche/anaconda3/envs/k-path/lib/python3.9/site-packages/pandas/_libs/index.pyx\u001b[0m in \u001b[0;36mpandas._libs.index.IndexEngine.get_loc\u001b[0;34m()\u001b[0m\n",
      "\u001b[0;32mpandas/_libs/hashtable_class_helper.pxi\u001b[0m in \u001b[0;36mpandas._libs.hashtable.PyObjectHashTable.get_item\u001b[0;34m()\u001b[0m\n",
      "\u001b[0;32mpandas/_libs/hashtable_class_helper.pxi\u001b[0m in \u001b[0;36mpandas._libs.hashtable.PyObjectHashTable.get_item\u001b[0;34m()\u001b[0m\n",
      "\u001b[0;31mKeyError\u001b[0m: 0",
      "\nThe above exception was the direct cause of the following exception:\n",
      "\u001b[0;31mKeyError\u001b[0m                                  Traceback (most recent call last)",
      "\u001b[0;32m/tmp/ipykernel_132230/2254168912.py\u001b[0m in \u001b[0;36m<module>\u001b[0;34m\u001b[0m\n\u001b[0;32m----> 1\u001b[0;31m \u001b[0mraw_data\u001b[0m\u001b[0;34m.\u001b[0m\u001b[0mloc\u001b[0m\u001b[0;34m[\u001b[0m\u001b[0mraw_data\u001b[0m\u001b[0;34m[\u001b[0m\u001b[0;36m0\u001b[0m\u001b[0;34m]\u001b[0m \u001b[0;34m==\u001b[0m \u001b[0;36m7349\u001b[0m\u001b[0;34m]\u001b[0m\u001b[0;34m\u001b[0m\u001b[0;34m\u001b[0m\u001b[0m\n\u001b[0m",
      "\u001b[0;32m/scratch3/zche/anaconda3/envs/k-path/lib/python3.9/site-packages/pandas/core/frame.py\u001b[0m in \u001b[0;36m__getitem__\u001b[0;34m(self, key)\u001b[0m\n\u001b[1;32m   3453\u001b[0m             \u001b[0;32mif\u001b[0m \u001b[0mself\u001b[0m\u001b[0;34m.\u001b[0m\u001b[0mcolumns\u001b[0m\u001b[0;34m.\u001b[0m\u001b[0mnlevels\u001b[0m \u001b[0;34m>\u001b[0m \u001b[0;36m1\u001b[0m\u001b[0;34m:\u001b[0m\u001b[0;34m\u001b[0m\u001b[0;34m\u001b[0m\u001b[0m\n\u001b[1;32m   3454\u001b[0m                 \u001b[0;32mreturn\u001b[0m \u001b[0mself\u001b[0m\u001b[0;34m.\u001b[0m\u001b[0m_getitem_multilevel\u001b[0m\u001b[0;34m(\u001b[0m\u001b[0mkey\u001b[0m\u001b[0;34m)\u001b[0m\u001b[0;34m\u001b[0m\u001b[0;34m\u001b[0m\u001b[0m\n\u001b[0;32m-> 3455\u001b[0;31m             \u001b[0mindexer\u001b[0m \u001b[0;34m=\u001b[0m \u001b[0mself\u001b[0m\u001b[0;34m.\u001b[0m\u001b[0mcolumns\u001b[0m\u001b[0;34m.\u001b[0m\u001b[0mget_loc\u001b[0m\u001b[0;34m(\u001b[0m\u001b[0mkey\u001b[0m\u001b[0;34m)\u001b[0m\u001b[0;34m\u001b[0m\u001b[0;34m\u001b[0m\u001b[0m\n\u001b[0m\u001b[1;32m   3456\u001b[0m             \u001b[0;32mif\u001b[0m \u001b[0mis_integer\u001b[0m\u001b[0;34m(\u001b[0m\u001b[0mindexer\u001b[0m\u001b[0;34m)\u001b[0m\u001b[0;34m:\u001b[0m\u001b[0;34m\u001b[0m\u001b[0;34m\u001b[0m\u001b[0m\n\u001b[1;32m   3457\u001b[0m                 \u001b[0mindexer\u001b[0m \u001b[0;34m=\u001b[0m \u001b[0;34m[\u001b[0m\u001b[0mindexer\u001b[0m\u001b[0;34m]\u001b[0m\u001b[0;34m\u001b[0m\u001b[0;34m\u001b[0m\u001b[0m\n",
      "\u001b[0;32m/scratch3/zche/anaconda3/envs/k-path/lib/python3.9/site-packages/pandas/core/indexes/base.py\u001b[0m in \u001b[0;36mget_loc\u001b[0;34m(self, key, method, tolerance)\u001b[0m\n\u001b[1;32m   3361\u001b[0m                 \u001b[0;32mreturn\u001b[0m \u001b[0mself\u001b[0m\u001b[0;34m.\u001b[0m\u001b[0m_engine\u001b[0m\u001b[0;34m.\u001b[0m\u001b[0mget_loc\u001b[0m\u001b[0;34m(\u001b[0m\u001b[0mcasted_key\u001b[0m\u001b[0;34m)\u001b[0m\u001b[0;34m\u001b[0m\u001b[0;34m\u001b[0m\u001b[0m\n\u001b[1;32m   3362\u001b[0m             \u001b[0;32mexcept\u001b[0m \u001b[0mKeyError\u001b[0m \u001b[0;32mas\u001b[0m \u001b[0merr\u001b[0m\u001b[0;34m:\u001b[0m\u001b[0;34m\u001b[0m\u001b[0;34m\u001b[0m\u001b[0m\n\u001b[0;32m-> 3363\u001b[0;31m                 \u001b[0;32mraise\u001b[0m \u001b[0mKeyError\u001b[0m\u001b[0;34m(\u001b[0m\u001b[0mkey\u001b[0m\u001b[0;34m)\u001b[0m \u001b[0;32mfrom\u001b[0m \u001b[0merr\u001b[0m\u001b[0;34m\u001b[0m\u001b[0;34m\u001b[0m\u001b[0m\n\u001b[0m\u001b[1;32m   3364\u001b[0m \u001b[0;34m\u001b[0m\u001b[0m\n\u001b[1;32m   3365\u001b[0m         \u001b[0;32mif\u001b[0m \u001b[0mis_scalar\u001b[0m\u001b[0;34m(\u001b[0m\u001b[0mkey\u001b[0m\u001b[0;34m)\u001b[0m \u001b[0;32mand\u001b[0m \u001b[0misna\u001b[0m\u001b[0;34m(\u001b[0m\u001b[0mkey\u001b[0m\u001b[0;34m)\u001b[0m \u001b[0;32mand\u001b[0m \u001b[0;32mnot\u001b[0m \u001b[0mself\u001b[0m\u001b[0;34m.\u001b[0m\u001b[0mhasnans\u001b[0m\u001b[0;34m:\u001b[0m\u001b[0;34m\u001b[0m\u001b[0;34m\u001b[0m\u001b[0m\n",
      "\u001b[0;31mKeyError\u001b[0m: 0"
     ]
    }
   ],
   "metadata": {}
  },
  {
   "cell_type": "markdown",
   "source": [
    "Append the other direction for the edgelist to be undirected (per convention of py geometric)"
   ],
   "metadata": {}
  },
  {
   "cell_type": "code",
   "execution_count": null,
   "source": [
    "rest = raw_data.copy()\n",
    "rest = rest.rename(columns={0: 1, 1: 0})\n",
    "full_data =raw_data.append(rest)"
   ],
   "outputs": [],
   "metadata": {}
  },
  {
   "cell_type": "code",
   "execution_count": null,
   "source": [
    "full_data.loc[full_data[0] == 7349]  #Check that both directions are added, compared from previous entry checking for 7349 in first position"
   ],
   "outputs": [
    {
     "output_type": "execute_result",
     "data": {
      "text/html": [
       "<div>\n",
       "<style scoped>\n",
       "    .dataframe tbody tr th:only-of-type {\n",
       "        vertical-align: middle;\n",
       "    }\n",
       "\n",
       "    .dataframe tbody tr th {\n",
       "        vertical-align: top;\n",
       "    }\n",
       "\n",
       "    .dataframe thead th {\n",
       "        text-align: right;\n",
       "    }\n",
       "</style>\n",
       "<table border=\"1\" class=\"dataframe\">\n",
       "  <thead>\n",
       "    <tr style=\"text-align: right;\">\n",
       "      <th></th>\n",
       "      <th>0</th>\n",
       "      <th>1</th>\n",
       "    </tr>\n",
       "  </thead>\n",
       "  <tbody>\n",
       "    <tr>\n",
       "      <th>154630</th>\n",
       "      <td>7349</td>\n",
       "      <td>58959</td>\n",
       "    </tr>\n",
       "    <tr>\n",
       "      <th>159230</th>\n",
       "      <td>7349</td>\n",
       "      <td>1394</td>\n",
       "    </tr>\n",
       "    <tr>\n",
       "      <th>247936</th>\n",
       "      <td>7349</td>\n",
       "      <td>64680</td>\n",
       "    </tr>\n",
       "    <tr>\n",
       "      <th>260335</th>\n",
       "      <td>7349</td>\n",
       "      <td>3952</td>\n",
       "    </tr>\n",
       "    <tr>\n",
       "      <th>266208</th>\n",
       "      <td>7349</td>\n",
       "      <td>1395</td>\n",
       "    </tr>\n",
       "    <tr>\n",
       "      <th>290792</th>\n",
       "      <td>7349</td>\n",
       "      <td>1393</td>\n",
       "    </tr>\n",
       "  </tbody>\n",
       "</table>\n",
       "</div>"
      ],
      "text/plain": [
       "           0      1\n",
       "154630  7349  58959\n",
       "159230  7349   1394\n",
       "247936  7349  64680\n",
       "260335  7349   3952\n",
       "266208  7349   1395\n",
       "290792  7349   1393"
      ]
     },
     "metadata": {},
     "execution_count": 53
    }
   ],
   "metadata": {}
  },
  {
   "cell_type": "markdown",
   "source": [
    "Check that the number of nodes correspond with dataset website "
   ],
   "metadata": {}
  },
  {
   "cell_type": "code",
   "execution_count": null,
   "source": [
    "N = full_data[0]\n",
    "N = N.unique()\n",
    "N.shape"
   ],
   "outputs": [],
   "metadata": {}
  },
  {
   "cell_type": "markdown",
   "source": [
    "Saving the edge list"
   ],
   "metadata": {}
  },
  {
   "cell_type": "code",
   "execution_count": null,
   "source": [
    "np.savetxt(r'ppi_edge_list', full_data.values, fmt='%d')"
   ],
   "outputs": [],
   "metadata": {}
  },
  {
   "cell_type": "markdown",
   "source": [
    "## Read deepwalk output node embeddings"
   ],
   "metadata": {}
  },
  {
   "cell_type": "code",
   "execution_count": null,
   "source": [
    "with open('ppi.embeddings','r') as f:\n",
    "    embeddings = f.read().splitlines()"
   ],
   "outputs": [],
   "metadata": {}
  },
  {
   "cell_type": "code",
   "execution_count": null,
   "source": [
    "embeddings_input = pd.read_table('ppi.embeddings',sep=\" \",skiprows=[0],header=None)"
   ],
   "outputs": [],
   "metadata": {}
  },
  {
   "cell_type": "code",
   "execution_count": null,
   "source": [
    "embeddings_input"
   ],
   "outputs": [
    {
     "output_type": "execute_result",
     "data": {
      "text/html": [
       "<div>\n",
       "<style scoped>\n",
       "    .dataframe tbody tr th:only-of-type {\n",
       "        vertical-align: middle;\n",
       "    }\n",
       "\n",
       "    .dataframe tbody tr th {\n",
       "        vertical-align: top;\n",
       "    }\n",
       "\n",
       "    .dataframe thead th {\n",
       "        text-align: right;\n",
       "    }\n",
       "</style>\n",
       "<table border=\"1\" class=\"dataframe\">\n",
       "  <thead>\n",
       "    <tr style=\"text-align: right;\">\n",
       "      <th></th>\n",
       "      <th>0</th>\n",
       "      <th>1</th>\n",
       "      <th>2</th>\n",
       "      <th>3</th>\n",
       "      <th>4</th>\n",
       "      <th>5</th>\n",
       "      <th>6</th>\n",
       "      <th>7</th>\n",
       "      <th>8</th>\n",
       "      <th>9</th>\n",
       "      <th>...</th>\n",
       "      <th>55</th>\n",
       "      <th>56</th>\n",
       "      <th>57</th>\n",
       "      <th>58</th>\n",
       "      <th>59</th>\n",
       "      <th>60</th>\n",
       "      <th>61</th>\n",
       "      <th>62</th>\n",
       "      <th>63</th>\n",
       "      <th>64</th>\n",
       "    </tr>\n",
       "  </thead>\n",
       "  <tbody>\n",
       "    <tr>\n",
       "      <th>0</th>\n",
       "      <td>7316</td>\n",
       "      <td>0.189910</td>\n",
       "      <td>-0.064698</td>\n",
       "      <td>-0.599348</td>\n",
       "      <td>0.596876</td>\n",
       "      <td>-0.838050</td>\n",
       "      <td>-0.193471</td>\n",
       "      <td>0.492390</td>\n",
       "      <td>0.251973</td>\n",
       "      <td>-0.932927</td>\n",
       "      <td>...</td>\n",
       "      <td>-0.137484</td>\n",
       "      <td>0.302540</td>\n",
       "      <td>0.129742</td>\n",
       "      <td>-0.229662</td>\n",
       "      <td>0.427583</td>\n",
       "      <td>-0.077384</td>\n",
       "      <td>-0.213938</td>\n",
       "      <td>-0.305025</td>\n",
       "      <td>0.363385</td>\n",
       "      <td>0.399331</td>\n",
       "    </tr>\n",
       "    <tr>\n",
       "      <th>1</th>\n",
       "      <td>9515</td>\n",
       "      <td>0.691739</td>\n",
       "      <td>-0.180698</td>\n",
       "      <td>0.202206</td>\n",
       "      <td>0.538861</td>\n",
       "      <td>-0.366840</td>\n",
       "      <td>-0.147514</td>\n",
       "      <td>0.105208</td>\n",
       "      <td>1.165225</td>\n",
       "      <td>-0.449967</td>\n",
       "      <td>...</td>\n",
       "      <td>-0.804815</td>\n",
       "      <td>-0.047687</td>\n",
       "      <td>0.438935</td>\n",
       "      <td>0.829328</td>\n",
       "      <td>0.760427</td>\n",
       "      <td>0.299100</td>\n",
       "      <td>1.313166</td>\n",
       "      <td>-0.487873</td>\n",
       "      <td>-0.168249</td>\n",
       "      <td>0.337687</td>\n",
       "    </tr>\n",
       "    <tr>\n",
       "      <th>2</th>\n",
       "      <td>1994</td>\n",
       "      <td>0.912802</td>\n",
       "      <td>-0.272483</td>\n",
       "      <td>0.724075</td>\n",
       "      <td>-0.242186</td>\n",
       "      <td>-0.178778</td>\n",
       "      <td>-0.460282</td>\n",
       "      <td>0.554090</td>\n",
       "      <td>0.067562</td>\n",
       "      <td>-0.295401</td>\n",
       "      <td>...</td>\n",
       "      <td>0.176077</td>\n",
       "      <td>0.284037</td>\n",
       "      <td>0.053238</td>\n",
       "      <td>0.682973</td>\n",
       "      <td>0.038556</td>\n",
       "      <td>-0.093938</td>\n",
       "      <td>1.068039</td>\n",
       "      <td>-0.122543</td>\n",
       "      <td>0.573283</td>\n",
       "      <td>0.425981</td>\n",
       "    </tr>\n",
       "    <tr>\n",
       "      <th>3</th>\n",
       "      <td>6622</td>\n",
       "      <td>-0.021047</td>\n",
       "      <td>0.794369</td>\n",
       "      <td>0.241550</td>\n",
       "      <td>0.203650</td>\n",
       "      <td>-0.227179</td>\n",
       "      <td>-0.715000</td>\n",
       "      <td>0.652274</td>\n",
       "      <td>-0.701848</td>\n",
       "      <td>-0.970441</td>\n",
       "      <td>...</td>\n",
       "      <td>-0.437235</td>\n",
       "      <td>0.226226</td>\n",
       "      <td>0.791789</td>\n",
       "      <td>0.495407</td>\n",
       "      <td>0.490702</td>\n",
       "      <td>0.602886</td>\n",
       "      <td>1.386207</td>\n",
       "      <td>-0.369359</td>\n",
       "      <td>0.453405</td>\n",
       "      <td>-0.212723</td>\n",
       "    </tr>\n",
       "    <tr>\n",
       "      <th>4</th>\n",
       "      <td>801</td>\n",
       "      <td>0.496900</td>\n",
       "      <td>-0.728646</td>\n",
       "      <td>0.106540</td>\n",
       "      <td>0.380249</td>\n",
       "      <td>0.203935</td>\n",
       "      <td>-0.303260</td>\n",
       "      <td>0.056357</td>\n",
       "      <td>0.233541</td>\n",
       "      <td>-0.701761</td>\n",
       "      <td>...</td>\n",
       "      <td>-0.245434</td>\n",
       "      <td>0.066865</td>\n",
       "      <td>0.077869</td>\n",
       "      <td>0.407522</td>\n",
       "      <td>0.290492</td>\n",
       "      <td>-0.236038</td>\n",
       "      <td>0.425556</td>\n",
       "      <td>0.005502</td>\n",
       "      <td>0.580945</td>\n",
       "      <td>0.939810</td>\n",
       "    </tr>\n",
       "    <tr>\n",
       "      <th>...</th>\n",
       "      <td>...</td>\n",
       "      <td>...</td>\n",
       "      <td>...</td>\n",
       "      <td>...</td>\n",
       "      <td>...</td>\n",
       "      <td>...</td>\n",
       "      <td>...</td>\n",
       "      <td>...</td>\n",
       "      <td>...</td>\n",
       "      <td>...</td>\n",
       "      <td>...</td>\n",
       "      <td>...</td>\n",
       "      <td>...</td>\n",
       "      <td>...</td>\n",
       "      <td>...</td>\n",
       "      <td>...</td>\n",
       "      <td>...</td>\n",
       "      <td>...</td>\n",
       "      <td>...</td>\n",
       "      <td>...</td>\n",
       "      <td>...</td>\n",
       "    </tr>\n",
       "    <tr>\n",
       "      <th>21552</th>\n",
       "      <td>9043</td>\n",
       "      <td>0.014123</td>\n",
       "      <td>0.004329</td>\n",
       "      <td>-0.015429</td>\n",
       "      <td>0.009397</td>\n",
       "      <td>-0.014265</td>\n",
       "      <td>0.010961</td>\n",
       "      <td>-0.013164</td>\n",
       "      <td>-0.005495</td>\n",
       "      <td>-0.011759</td>\n",
       "      <td>...</td>\n",
       "      <td>-0.008984</td>\n",
       "      <td>-0.008643</td>\n",
       "      <td>-0.013500</td>\n",
       "      <td>-0.004089</td>\n",
       "      <td>0.006694</td>\n",
       "      <td>0.006382</td>\n",
       "      <td>0.004451</td>\n",
       "      <td>-0.003720</td>\n",
       "      <td>-0.000940</td>\n",
       "      <td>0.004938</td>\n",
       "    </tr>\n",
       "    <tr>\n",
       "      <th>21553</th>\n",
       "      <td>114836</td>\n",
       "      <td>-0.012383</td>\n",
       "      <td>0.007339</td>\n",
       "      <td>0.013936</td>\n",
       "      <td>0.008257</td>\n",
       "      <td>0.012825</td>\n",
       "      <td>0.013396</td>\n",
       "      <td>-0.011796</td>\n",
       "      <td>0.005186</td>\n",
       "      <td>-0.000722</td>\n",
       "      <td>...</td>\n",
       "      <td>0.002209</td>\n",
       "      <td>0.007570</td>\n",
       "      <td>-0.002435</td>\n",
       "      <td>0.011183</td>\n",
       "      <td>-0.005994</td>\n",
       "      <td>-0.009608</td>\n",
       "      <td>0.008898</td>\n",
       "      <td>-0.011565</td>\n",
       "      <td>-0.011611</td>\n",
       "      <td>0.014662</td>\n",
       "    </tr>\n",
       "    <tr>\n",
       "      <th>21554</th>\n",
       "      <td>25769</td>\n",
       "      <td>-0.009213</td>\n",
       "      <td>-0.005118</td>\n",
       "      <td>0.010256</td>\n",
       "      <td>0.006941</td>\n",
       "      <td>-0.004975</td>\n",
       "      <td>0.001724</td>\n",
       "      <td>0.004428</td>\n",
       "      <td>0.000953</td>\n",
       "      <td>0.008670</td>\n",
       "      <td>...</td>\n",
       "      <td>0.000323</td>\n",
       "      <td>0.008156</td>\n",
       "      <td>0.011999</td>\n",
       "      <td>0.011780</td>\n",
       "      <td>-0.012374</td>\n",
       "      <td>0.002535</td>\n",
       "      <td>-0.012322</td>\n",
       "      <td>0.010036</td>\n",
       "      <td>0.008177</td>\n",
       "      <td>0.009573</td>\n",
       "    </tr>\n",
       "    <tr>\n",
       "      <th>21555</th>\n",
       "      <td>57586</td>\n",
       "      <td>-0.005197</td>\n",
       "      <td>-0.005457</td>\n",
       "      <td>-0.006769</td>\n",
       "      <td>0.000308</td>\n",
       "      <td>0.007852</td>\n",
       "      <td>-0.008098</td>\n",
       "      <td>-0.000677</td>\n",
       "      <td>-0.001047</td>\n",
       "      <td>0.014665</td>\n",
       "      <td>...</td>\n",
       "      <td>-0.001947</td>\n",
       "      <td>-0.014540</td>\n",
       "      <td>-0.002869</td>\n",
       "      <td>-0.006419</td>\n",
       "      <td>0.012517</td>\n",
       "      <td>-0.013187</td>\n",
       "      <td>-0.002361</td>\n",
       "      <td>0.007360</td>\n",
       "      <td>0.004088</td>\n",
       "      <td>0.007637</td>\n",
       "    </tr>\n",
       "    <tr>\n",
       "      <th>21556</th>\n",
       "      <td>285753</td>\n",
       "      <td>0.003546</td>\n",
       "      <td>0.001141</td>\n",
       "      <td>0.013298</td>\n",
       "      <td>0.015223</td>\n",
       "      <td>0.006898</td>\n",
       "      <td>0.006975</td>\n",
       "      <td>0.014197</td>\n",
       "      <td>0.010903</td>\n",
       "      <td>-0.014989</td>\n",
       "      <td>...</td>\n",
       "      <td>0.006681</td>\n",
       "      <td>-0.011831</td>\n",
       "      <td>-0.001185</td>\n",
       "      <td>0.000154</td>\n",
       "      <td>-0.003783</td>\n",
       "      <td>-0.001881</td>\n",
       "      <td>0.014059</td>\n",
       "      <td>-0.004164</td>\n",
       "      <td>-0.002817</td>\n",
       "      <td>0.008067</td>\n",
       "    </tr>\n",
       "  </tbody>\n",
       "</table>\n",
       "<p>21557 rows × 65 columns</p>\n",
       "</div>"
      ],
      "text/plain": [
       "           0         1         2         3         4         5         6   \\\n",
       "0        7316  0.189910 -0.064698 -0.599348  0.596876 -0.838050 -0.193471   \n",
       "1        9515  0.691739 -0.180698  0.202206  0.538861 -0.366840 -0.147514   \n",
       "2        1994  0.912802 -0.272483  0.724075 -0.242186 -0.178778 -0.460282   \n",
       "3        6622 -0.021047  0.794369  0.241550  0.203650 -0.227179 -0.715000   \n",
       "4         801  0.496900 -0.728646  0.106540  0.380249  0.203935 -0.303260   \n",
       "...       ...       ...       ...       ...       ...       ...       ...   \n",
       "21552    9043  0.014123  0.004329 -0.015429  0.009397 -0.014265  0.010961   \n",
       "21553  114836 -0.012383  0.007339  0.013936  0.008257  0.012825  0.013396   \n",
       "21554   25769 -0.009213 -0.005118  0.010256  0.006941 -0.004975  0.001724   \n",
       "21555   57586 -0.005197 -0.005457 -0.006769  0.000308  0.007852 -0.008098   \n",
       "21556  285753  0.003546  0.001141  0.013298  0.015223  0.006898  0.006975   \n",
       "\n",
       "             7         8         9   ...        55        56        57  \\\n",
       "0      0.492390  0.251973 -0.932927  ... -0.137484  0.302540  0.129742   \n",
       "1      0.105208  1.165225 -0.449967  ... -0.804815 -0.047687  0.438935   \n",
       "2      0.554090  0.067562 -0.295401  ...  0.176077  0.284037  0.053238   \n",
       "3      0.652274 -0.701848 -0.970441  ... -0.437235  0.226226  0.791789   \n",
       "4      0.056357  0.233541 -0.701761  ... -0.245434  0.066865  0.077869   \n",
       "...         ...       ...       ...  ...       ...       ...       ...   \n",
       "21552 -0.013164 -0.005495 -0.011759  ... -0.008984 -0.008643 -0.013500   \n",
       "21553 -0.011796  0.005186 -0.000722  ...  0.002209  0.007570 -0.002435   \n",
       "21554  0.004428  0.000953  0.008670  ...  0.000323  0.008156  0.011999   \n",
       "21555 -0.000677 -0.001047  0.014665  ... -0.001947 -0.014540 -0.002869   \n",
       "21556  0.014197  0.010903 -0.014989  ...  0.006681 -0.011831 -0.001185   \n",
       "\n",
       "             58        59        60        61        62        63        64  \n",
       "0     -0.229662  0.427583 -0.077384 -0.213938 -0.305025  0.363385  0.399331  \n",
       "1      0.829328  0.760427  0.299100  1.313166 -0.487873 -0.168249  0.337687  \n",
       "2      0.682973  0.038556 -0.093938  1.068039 -0.122543  0.573283  0.425981  \n",
       "3      0.495407  0.490702  0.602886  1.386207 -0.369359  0.453405 -0.212723  \n",
       "4      0.407522  0.290492 -0.236038  0.425556  0.005502  0.580945  0.939810  \n",
       "...         ...       ...       ...       ...       ...       ...       ...  \n",
       "21552 -0.004089  0.006694  0.006382  0.004451 -0.003720 -0.000940  0.004938  \n",
       "21553  0.011183 -0.005994 -0.009608  0.008898 -0.011565 -0.011611  0.014662  \n",
       "21554  0.011780 -0.012374  0.002535 -0.012322  0.010036  0.008177  0.009573  \n",
       "21555 -0.006419  0.012517 -0.013187 -0.002361  0.007360  0.004088  0.007637  \n",
       "21556  0.000154 -0.003783 -0.001881  0.014059 -0.004164 -0.002817  0.008067  \n",
       "\n",
       "[21557 rows x 65 columns]"
      ]
     },
     "metadata": {},
     "execution_count": 67
    }
   ],
   "metadata": {}
  },
  {
   "cell_type": "code",
   "execution_count": null,
   "source": [
    "embeddings_input = embeddings_input.sort_values(by=[0])  #sort by node number"
   ],
   "outputs": [],
   "metadata": {}
  },
  {
   "cell_type": "code",
   "execution_count": null,
   "source": [
    "embeddings = embeddings_input.to_numpy()"
   ],
   "outputs": [],
   "metadata": {}
  },
  {
   "cell_type": "code",
   "execution_count": null,
   "source": [
    "embeddings_features=embeddings[:,1:]    # Splice to have features only (first column is node names)\n",
    "embeddings_features.shape"
   ],
   "outputs": [
    {
     "output_type": "execute_result",
     "data": {
      "text/plain": [
       "(21557, 64)"
      ]
     },
     "metadata": {},
     "execution_count": 36
    }
   ],
   "metadata": {}
  },
  {
   "cell_type": "code",
   "execution_count": null,
   "source": [
    "embeddings_features  #feature for the nodes arranged in the order of increasing node number"
   ],
   "outputs": [
    {
     "output_type": "execute_result",
     "data": {
      "text/plain": [
       "array([[-0.36996102,  0.09315004,  1.402932  , ...,  0.38436455,\n",
       "        -0.653469  , -0.18093751],\n",
       "       [-0.49422905,  0.61262727, -0.7776907 , ..., -1.1173348 ,\n",
       "         0.63795   ,  0.95317674],\n",
       "       [ 0.85459   , -0.4973924 ,  0.59411734, ...,  0.7508602 ,\n",
       "         0.2990249 ,  1.6158814 ],\n",
       "       ...,\n",
       "       [ 0.5960941 ,  0.54542536,  0.05377278, ..., -0.5385075 ,\n",
       "        -1.775665  , -0.5381145 ],\n",
       "       [ 0.81639177, -0.17730135,  0.69772583, ..., -0.70117736,\n",
       "         1.1467463 ,  1.0267804 ],\n",
       "       [ 1.2118686 , -0.47343823, -0.0856882 , ..., -0.33950025,\n",
       "         1.095661  , -0.51299816]])"
      ]
     },
     "metadata": {},
     "execution_count": 37
    }
   ],
   "metadata": {}
  },
  {
   "cell_type": "markdown",
   "source": [
    "## Map edge list to have continuous node numbering"
   ],
   "metadata": {}
  },
  {
   "cell_type": "code",
   "execution_count": null,
   "source": [
    "import torch\n",
    "from torch_geometric.data import Data\n",
    "import pandas as pd\n",
    "import numpy as np"
   ],
   "outputs": [],
   "metadata": {}
  },
  {
   "cell_type": "code",
   "execution_count": null,
   "source": [
    "edge_index = pd.read_table('ppi_edge_list',sep=\" \").to_numpy()"
   ],
   "outputs": [],
   "metadata": {}
  },
  {
   "cell_type": "code",
   "execution_count": null,
   "source": [
    "edge_index.shape"
   ],
   "outputs": [
    {
     "output_type": "execute_result",
     "data": {
      "text/plain": [
       "(684705, 2)"
      ]
     },
     "metadata": {},
     "execution_count": 3
    }
   ],
   "metadata": {}
  },
  {
   "cell_type": "code",
   "execution_count": null,
   "source": [
    "all_nodes = np.unique(edge_index.T[0])   # We just need to find all unique occurences in one column only since the matrix contains undirected entries (each edge appears twice in reversed direction)\n",
    "all_nodes.shape"
   ],
   "outputs": [
    {
     "output_type": "execute_result",
     "data": {
      "text/plain": [
       "(21557,)"
      ]
     },
     "metadata": {},
     "execution_count": 23
    }
   ],
   "metadata": {}
  },
  {
   "cell_type": "code",
   "execution_count": null,
   "source": [
    "dict_map = {k: v for v, k in enumerate(all_nodes)}"
   ],
   "outputs": [],
   "metadata": {}
  },
  {
   "cell_type": "code",
   "execution_count": null,
   "source": [
    "for i in range(edge_index.shape[0]):\n",
    "    for j in range(edge_index.shape[1]):\n",
    "        edge_index[i,j] = dict_map[edge_index[i,j]]"
   ],
   "outputs": [],
   "metadata": {}
  },
  {
   "cell_type": "code",
   "execution_count": null,
   "source": [
    "t = torch.from_numpy(edge_index)"
   ],
   "outputs": [],
   "metadata": {}
  },
  {
   "cell_type": "markdown",
   "source": [
    "## Create PyGeometric Dataset from embedding and edge list"
   ],
   "metadata": {}
  },
  {
   "cell_type": "code",
   "execution_count": null,
   "source": [
    "data = Data(x = embeddings_features,edge_index=t.t().contiguous())"
   ],
   "outputs": [],
   "metadata": {}
  },
  {
   "cell_type": "markdown",
   "source": [
    "## Testing deepwalk embedding similarities "
   ],
   "metadata": {}
  },
  {
   "cell_type": "markdown",
   "source": [
    "deepwalk --input example_list --number-walks 10 --representation-size 128 --walk-length 6 --window-size 2 --output example.embeddings"
   ],
   "metadata": {}
  },
  {
   "cell_type": "markdown",
   "source": [
    "deepwalk --input example_list --number-walks 50 --representation-size 128 --walk-length 6 --window-size 2 --output example_1.embeddings"
   ],
   "metadata": {}
  },
  {
   "cell_type": "code",
   "execution_count": 44,
   "source": [
    "import numpy as np"
   ],
   "outputs": [],
   "metadata": {}
  },
  {
   "cell_type": "code",
   "execution_count": 45,
   "source": [
    "embeddings = pd.read_table('example.embeddings',sep=\" \",skiprows=[0],header=None)\n",
    "embeddings=embeddings.set_index(0)\n",
    "embeddings = embeddings.sort_index()"
   ],
   "outputs": [],
   "metadata": {}
  },
  {
   "cell_type": "code",
   "execution_count": 46,
   "source": [
    "embeddings_1 = pd.read_table('example_1.embeddings',sep=\" \",skiprows=[0],header=None)\n",
    "embeddings_1=embeddings_1.set_index(0)\n",
    "embeddings_1 = embeddings_1.sort_index()"
   ],
   "outputs": [],
   "metadata": {}
  },
  {
   "cell_type": "code",
   "execution_count": 47,
   "source": [
    "def Euclidean_dist(a, b):\n",
    "    return round(np.linalg.norm(a-b),3)"
   ],
   "outputs": [],
   "metadata": {}
  },
  {
   "cell_type": "code",
   "execution_count": 48,
   "source": [
    "def fill_distance(embeddings_table):\n",
    "    length = len(embeddings_table)\n",
    "    distance_matrix = np.zeros([length, length])\n",
    "    for i in range(length):\n",
    "        for j in range(i,length):\n",
    "            row_i = embeddings_table[i:i+1].values\n",
    "            row_j = embeddings_table[j:j+1].values\n",
    "            distance_matrix[i,j] = Euclidean_dist(row_i,row_j)\n",
    "    return distance_matrix"
   ],
   "outputs": [],
   "metadata": {}
  },
  {
   "cell_type": "code",
   "execution_count": 49,
   "source": [
    "fill_distance(embeddings)"
   ],
   "outputs": [
    {
     "output_type": "execute_result",
     "data": {
      "text/plain": [
       "array([[0.   , 0.07 , 0.072, 0.075, 0.078, 0.076, 0.071, 0.077, 0.077],\n",
       "       [0.   , 0.   , 0.068, 0.068, 0.071, 0.07 , 0.075, 0.067, 0.072],\n",
       "       [0.   , 0.   , 0.   , 0.074, 0.071, 0.073, 0.076, 0.073, 0.073],\n",
       "       [0.   , 0.   , 0.   , 0.   , 0.069, 0.073, 0.072, 0.075, 0.077],\n",
       "       [0.   , 0.   , 0.   , 0.   , 0.   , 0.068, 0.073, 0.073, 0.069],\n",
       "       [0.   , 0.   , 0.   , 0.   , 0.   , 0.   , 0.075, 0.07 , 0.073],\n",
       "       [0.   , 0.   , 0.   , 0.   , 0.   , 0.   , 0.   , 0.074, 0.078],\n",
       "       [0.   , 0.   , 0.   , 0.   , 0.   , 0.   , 0.   , 0.   , 0.079],\n",
       "       [0.   , 0.   , 0.   , 0.   , 0.   , 0.   , 0.   , 0.   , 0.   ]])"
      ]
     },
     "metadata": {},
     "execution_count": 49
    }
   ],
   "metadata": {}
  },
  {
   "cell_type": "code",
   "execution_count": 50,
   "source": [
    "fill_distance(embeddings_1)"
   ],
   "outputs": [
    {
     "output_type": "execute_result",
     "data": {
      "text/plain": [
       "array([[0.   , 0.143, 0.072, 0.144, 0.175, 0.149, 0.165, 0.149, 0.157],\n",
       "       [0.   , 0.   , 0.132, 0.071, 0.12 , 0.068, 0.11 , 0.078, 0.082],\n",
       "       [0.   , 0.   , 0.   , 0.134, 0.164, 0.137, 0.158, 0.137, 0.145],\n",
       "       [0.   , 0.   , 0.   , 0.   , 0.116, 0.08 , 0.11 , 0.079, 0.092],\n",
       "       [0.   , 0.   , 0.   , 0.   , 0.   , 0.124, 0.074, 0.108, 0.108],\n",
       "       [0.   , 0.   , 0.   , 0.   , 0.   , 0.   , 0.113, 0.076, 0.087],\n",
       "       [0.   , 0.   , 0.   , 0.   , 0.   , 0.   , 0.   , 0.102, 0.102],\n",
       "       [0.   , 0.   , 0.   , 0.   , 0.   , 0.   , 0.   , 0.   , 0.077],\n",
       "       [0.   , 0.   , 0.   , 0.   , 0.   , 0.   , 0.   , 0.   , 0.   ]])"
      ]
     },
     "metadata": {},
     "execution_count": 50
    }
   ],
   "metadata": {}
  },
  {
   "cell_type": "markdown",
   "source": [
    "most similar  \n",
    "0: 2  \n",
    "1: 3,5  \n",
    "2: 3, 6, 7  \n",
    "3: 5,7  \n",
    "4: 6  \n",
    "5: 7, 8  \n",
    "6: same  \n",
    "7: 8  \n"
   ],
   "metadata": {}
  }
 ],
 "metadata": {
  "orig_nbformat": 4,
  "language_info": {
   "name": "python",
   "version": "3.9.6",
   "mimetype": "text/x-python",
   "codemirror_mode": {
    "name": "ipython",
    "version": 3
   },
   "pygments_lexer": "ipython3",
   "nbconvert_exporter": "python",
   "file_extension": ".py"
  },
  "kernelspec": {
   "name": "python3",
   "display_name": "Python 3.9.6 64-bit ('k-path': conda)"
  },
  "interpreter": {
   "hash": "6d7732aa4cfd9c3b18076e27109bef33dbd2e3d77433bf8952439ad24bec827c"
  }
 },
 "nbformat": 4,
 "nbformat_minor": 2
}