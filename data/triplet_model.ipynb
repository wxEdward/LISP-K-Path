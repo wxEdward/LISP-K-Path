{
 "cells": [
  {
   "cell_type": "code",
   "execution_count": 1,
   "metadata": {},
   "outputs": [
    {
     "ename": "FileNotFoundError",
     "evalue": "[Errno 2] No such file or directory: 'ppi_edge_list_mapped.npy'",
     "output_type": "error",
     "traceback": [
      "\u001b[0;31m---------------------------------------------------------------------------\u001b[0m",
      "\u001b[0;31mFileNotFoundError\u001b[0m                         Traceback (most recent call last)",
      "\u001b[0;32m/tmp/ipykernel_116399/1830357486.py\u001b[0m in \u001b[0;36m<module>\u001b[0;34m\u001b[0m\n\u001b[1;32m      3\u001b[0m \u001b[0;32mimport\u001b[0m \u001b[0mpandas\u001b[0m \u001b[0;32mas\u001b[0m \u001b[0mpd\u001b[0m\u001b[0;34m\u001b[0m\u001b[0;34m\u001b[0m\u001b[0m\n\u001b[1;32m      4\u001b[0m \u001b[0;32mimport\u001b[0m \u001b[0mnumpy\u001b[0m \u001b[0;32mas\u001b[0m \u001b[0mnp\u001b[0m\u001b[0;34m\u001b[0m\u001b[0;34m\u001b[0m\u001b[0m\n\u001b[0;32m----> 5\u001b[0;31m \u001b[0medge_index\u001b[0m\u001b[0;34m=\u001b[0m \u001b[0mnp\u001b[0m\u001b[0;34m.\u001b[0m\u001b[0mload\u001b[0m\u001b[0;34m(\u001b[0m\u001b[0;34m\"ppi_edge_list_mapped.npy\"\u001b[0m\u001b[0;34m)\u001b[0m\u001b[0;34m\u001b[0m\u001b[0;34m\u001b[0m\u001b[0m\n\u001b[0m\u001b[1;32m      6\u001b[0m \u001b[0membeddings_features\u001b[0m\u001b[0;34m=\u001b[0m\u001b[0mnp\u001b[0m\u001b[0;34m.\u001b[0m\u001b[0mload\u001b[0m\u001b[0;34m(\u001b[0m\u001b[0;34m\"ppi_embeddings_features.npy\"\u001b[0m\u001b[0;34m)\u001b[0m\u001b[0;34m\u001b[0m\u001b[0;34m\u001b[0m\u001b[0m\n",
      "\u001b[0;32m/scratch/peilun/anaconda3/envs/kpath/lib/python3.8/site-packages/numpy/lib/npyio.py\u001b[0m in \u001b[0;36mload\u001b[0;34m(file, mmap_mode, allow_pickle, fix_imports, encoding)\u001b[0m\n\u001b[1;32m    415\u001b[0m             \u001b[0mown_fid\u001b[0m \u001b[0;34m=\u001b[0m \u001b[0;32mFalse\u001b[0m\u001b[0;34m\u001b[0m\u001b[0;34m\u001b[0m\u001b[0m\n\u001b[1;32m    416\u001b[0m         \u001b[0;32melse\u001b[0m\u001b[0;34m:\u001b[0m\u001b[0;34m\u001b[0m\u001b[0;34m\u001b[0m\u001b[0m\n\u001b[0;32m--> 417\u001b[0;31m             \u001b[0mfid\u001b[0m \u001b[0;34m=\u001b[0m \u001b[0mstack\u001b[0m\u001b[0;34m.\u001b[0m\u001b[0menter_context\u001b[0m\u001b[0;34m(\u001b[0m\u001b[0mopen\u001b[0m\u001b[0;34m(\u001b[0m\u001b[0mos_fspath\u001b[0m\u001b[0;34m(\u001b[0m\u001b[0mfile\u001b[0m\u001b[0;34m)\u001b[0m\u001b[0;34m,\u001b[0m \u001b[0;34m\"rb\"\u001b[0m\u001b[0;34m)\u001b[0m\u001b[0;34m)\u001b[0m\u001b[0;34m\u001b[0m\u001b[0;34m\u001b[0m\u001b[0m\n\u001b[0m\u001b[1;32m    418\u001b[0m             \u001b[0mown_fid\u001b[0m \u001b[0;34m=\u001b[0m \u001b[0;32mTrue\u001b[0m\u001b[0;34m\u001b[0m\u001b[0;34m\u001b[0m\u001b[0m\n\u001b[1;32m    419\u001b[0m \u001b[0;34m\u001b[0m\u001b[0m\n",
      "\u001b[0;31mFileNotFoundError\u001b[0m: [Errno 2] No such file or directory: 'ppi_edge_list_mapped.npy'"
     ]
    }
   ],
   "source": [
    "import torch\n",
    "from torch_geometric.data import Data\n",
    "import pandas as pd\n",
    "import numpy as np\n",
    "edge_index= np.load(\"ppi_edge_list_mapped.npy\")\n",
    "embeddings_features=np.load(\"ppi_embeddings_features.npy\")"
   ]
  },
  {
   "cell_type": "markdown",
   "metadata": {},
   "source": [
    "x: embedding with shape [num_nodes, num_node_features]\n",
    "edge_index: graph connectivity in COO format with shape [2, num_edges]\n",
    "\n",
    "Note that to account for undirected graph, each edge appears in reversed order twice in the transposed edge_index (each entry is a pair of edges)"
   ]
  },
  {
   "cell_type": "code",
   "execution_count": null,
   "metadata": {},
   "outputs": [],
   "source": [
    "t = torch.from_numpy(edge_index)"
   ]
  },
  {
   "cell_type": "code",
   "execution_count": null,
   "metadata": {},
   "outputs": [],
   "source": [
    "data = Data(x = torch.from_numpy(embeddings_features),edge_index=t.t().contiguous())"
   ]
  },
  {
   "cell_type": "code",
   "execution_count": null,
   "metadata": {},
   "outputs": [],
   "source": [
    "# Model \n",
    "import torch.nn.functional as F\n",
    "from torch_geometric.nn import GCNConv\n",
    "class GCN(torch.nn.Module):\n",
    "    def __init__(self):\n",
    "        super().__init__()\n",
    "        self.conv1 = GCNConv(data.num_node_features, 32)\n",
    "        self.conv2 = GCNConv(32, 16)   #hm, could make # of color as the output dim here?\n",
    "\n",
    "    def forward(self, data):\n",
    "        x, edge_index = data.x, data.edge_index\n",
    "        #x = x.to(dtype=torch.float32)\n",
    "        # print((x.dtype))\n",
    "        # print((edge_index.dtype))\n",
    "        x = self.conv1(x, edge_index)\n",
    "        x = F.relu(x)\n",
    "        x = F.dropout(x, training=self.training)\n",
    "        x = self.conv2(x, edge_index)\n",
    "        \n",
    "        return F.log_softmax(x, dim=1)\n",
    "    def similarity(self, x, y, test=False):\n",
    "      x, y = F.normalize(x), F.normalize(y)\n",
    "      sim = x.mm(y.t())\n",
    "      if test:\n",
    "        # the testing code wants the index of the best match\n",
    "        _, sim = sim.max(0)\n",
    "      return sim"
   ]
  },
  {
   "cell_type": "code",
   "execution_count": null,
   "metadata": {},
   "outputs": [],
   "source": [
    "from torch_geometric.loader import DataLoader,RandomNodeSampler, NeighborLoader\n",
    "from torch_geometric.utils import structured_negative_sampling\n",
    "loader = NeighborLoader(data, num_neighbors=[10] * 2, shuffle=True, batch_size=10)"
   ]
  },
  {
   "cell_type": "code",
   "execution_count": null,
   "metadata": {},
   "outputs": [],
   "source": [
    "device = torch.device('cuda' if torch.cuda.is_available() else 'cpu')\n",
    "model = GCN().to(device)\n",
    "optimizer = torch.optim.Adam(model.parameters(), lr=0.01, weight_decay=5e-4)"
   ]
  },
  {
   "cell_type": "code",
   "execution_count": null,
   "metadata": {},
   "outputs": [],
   "source": [
    "model.train()\n",
    "margin = 0.01\n",
    "train_running_loss = 0.0\n",
    "for sample in loader:\n",
    "    # print(device)\n",
    "    sample.x = sample.x.to(device).to(dtype=torch.float32)\n",
    "    sample.x.requires_grad=True\n",
    "    # sample.x = requires_grad=True\n",
    "    sample.edge_index = sample.edge_index.to(device).long()\n",
    "    # print(sample.x.is_cuda)\n",
    "    # print(type(sample.edge_index))\n",
    "    # print(sample.edge_index.is_cuda)\n",
    "    optimizer.zero_grad()\n",
    "    i, j, k = structured_negative_sampling(sample.edge_index)\n",
    "    negatives = (i,k)   #not neighbors\n",
    "    positives = (i,j)   #neighbors \n",
    "    output = model(sample)\n",
    "    #pos = model.similarity(sample.x[i], sample.x[j])\n",
    "    #neg = model.similarity(sample.x[i], sample.x[k])\n",
    "    pos = model.similarity(output[i], output[j])\n",
    "    neg = model.similarity(output[i], output[k])\n",
    "    diff =pos.diag() -neg.diag() +margin      # Note for coloring, we want negatives closer and positives further\n",
    "    triplet_loss_matrix = diff.mean()\n",
    "    loss = triplet_loss_matrix\n",
    "    loss.backward()\n",
    "    optimizer.step()\n",
    "    train_running_loss += loss.detach().item()"
   ]
  }
 ],
 "metadata": {
  "interpreter": {
   "hash": "b4e030862a9b0e0a69861c681820ccab67d6e7d1a91386c92fd0da93e97f717c"
  },
  "kernelspec": {
   "display_name": "Python 3.8.11 64-bit ('kpath': conda)",
   "language": "python",
   "name": "python3"
  },
  "language_info": {
   "codemirror_mode": {
    "name": "ipython",
    "version": 3
   },
   "file_extension": ".py",
   "mimetype": "text/x-python",
   "name": "python",
   "nbconvert_exporter": "python",
   "pygments_lexer": "ipython3",
   "version": "3.8.11"
  },
  "orig_nbformat": 4
 },
 "nbformat": 4,
 "nbformat_minor": 2
}
