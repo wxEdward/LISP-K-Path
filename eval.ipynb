{
 "cells": [
  {
   "cell_type": "markdown",
   "metadata": {},
   "source": [
    "Evaluation \n",
    "- calculate number of trials needed for having k-path colored panchromatically for given k and delta (success probability)\n",
    "- get coloring from a given method by running it as a subprocess, repeat this until k-path is found\n",
    "- TODO: account for finding all k-paths? \n",
    "- TODO: design some larger k-paths where coloring challenge is more prominent/use real graphs"
   ]
  },
  {
   "cell_type": "code",
   "execution_count": null,
   "metadata": {},
   "outputs": [
    {
     "ename": "",
     "evalue": "",
     "output_type": "error",
     "traceback": [
      "\u001b[1;31mFailed to start the Kernel. \n",
      "Failed to start the Kernel 'gnn (Python 3.8.12)'. \n",
      "View Jupyter <a href='command:jupyter.viewOutput'>log</a> for further details. Activating Python 3.8.12 ('3.8.12') to run Jupyter failed with Error: ENOENT: no such file or directory, scandir '/scratch/peilun/anaconda3/envs/kpath/bin'."
     ]
    }
   ],
   "source": [
    "import math\n",
    "import os\n",
    "import subprocess\n",
    "import random\n",
    "from pprint import pprint\n",
    "from k_path_dp import DP_from_coloring\n",
    "# from k_path_dp import test"
   ]
  },
  {
   "cell_type": "code",
   "execution_count": 2,
   "metadata": {},
   "outputs": [],
   "source": [
    "k = 3\n",
    "delta = 0.01\n",
    "edge_file = \"data/test_example_list\"\n",
    "total = 3\n",
    "coloring_method = \"method.py\"\n",
    "n = 9\n",
    "m = 8"
   ]
  },
  {
   "cell_type": "code",
   "execution_count": 6,
   "metadata": {},
   "outputs": [],
   "source": [
    "def Approx_Trials(k, delta):\n",
    "    p = math.sqrt(2*math.pi*k)/(math.e**k)\n",
    "    trials = 1/p*math.log(1/delta)\n",
    "    return trials\n"
   ]
  },
  {
   "cell_type": "code",
   "execution_count": 7,
   "metadata": {},
   "outputs": [],
   "source": [
    "T = int(Approx_Trials(3,0.01))\n",
    "t=0\n",
    "Found = False"
   ]
  },
  {
   "cell_type": "code",
   "execution_count": 8,
   "metadata": {},
   "outputs": [
    {
     "name": "stdout",
     "output_type": "stream",
     "text": [
      "[1, 3, 4]\n",
      "[3, 5, 7]\n",
      "2\n",
      "[1, 3, 5]\n",
      "[3, 5, 7]\n",
      "2\n",
      "[0, 1, 3]\n",
      "[1, 3, 5]\n",
      "[3, 5, 7]\n",
      "3\n"
     ]
    }
   ],
   "source": [
    "while Found is not True:\n",
    "    coloring = subprocess.run(['python3', coloring_method, edge_file], stderr=subprocess.PIPE,stdout=subprocess.PIPE)\n",
    "    # example: random encoding \n",
    "    # V = list(range(n))\n",
    "    # coloring = {u:random.randint(1,k) for u in V}\n",
    "    sol = DP_from_coloring(edge_file, k ,coloring = coloring)\n",
    "    print(len(sol))\n",
    "    if len(sol)== total:\n",
    "        Found = True\n",
    "    t = t+1\n",
    "    # pprint(coloring)\n",
    "    # pprint(dp_table)\n",
    "    # pprint(partial_paths)"
   ]
  },
  {
   "cell_type": "code",
   "execution_count": 9,
   "metadata": {},
   "outputs": [
    {
     "name": "stdout",
     "output_type": "stream",
     "text": [
      "3\n"
     ]
    }
   ],
   "source": [
    "print(t)"
   ]
  },
  {
   "cell_type": "code",
   "execution_count": 10,
   "metadata": {},
   "outputs": [
    {
     "name": "stdout",
     "output_type": "stream",
     "text": [
      "True\n"
     ]
    }
   ],
   "source": [
    "print(t<T)"
   ]
  },
  {
   "cell_type": "code",
   "execution_count": null,
   "metadata": {},
   "outputs": [],
   "source": []
  }
 ],
 "metadata": {
  "interpreter": {
   "hash": "0926eea064b49c53f1ceb57063f268e32255c543f25f5c8db60444e7c32ad962"
  },
  "kernelspec": {
   "display_name": "Python 3.9.6 64-bit ('k-path': conda)",
   "name": "python3"
  },
  "language_info": {
   "codemirror_mode": {
    "name": "ipython",
    "version": 3
   },
   "file_extension": ".py",
   "mimetype": "text/x-python",
   "name": "python",
   "nbconvert_exporter": "python",
   "pygments_lexer": "ipython3",
   "version": "3.8.12"
  },
  "orig_nbformat": 4
 },
 "nbformat": 4,
 "nbformat_minor": 2
}
